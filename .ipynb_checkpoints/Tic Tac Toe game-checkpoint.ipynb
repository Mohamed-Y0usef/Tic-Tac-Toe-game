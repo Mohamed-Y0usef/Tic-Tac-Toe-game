{
 "cells": [
  {
   "cell_type": "code",
   "execution_count": 1,
   "id": "270fdcdf",
   "metadata": {},
   "outputs": [],
   "source": [
    "from IPython.display import clear_output"
   ]
  },
  {
   "cell_type": "code",
   "execution_count": 2,
   "id": "8d026515",
   "metadata": {},
   "outputs": [],
   "source": [
    "def display(the_board):\n",
    "    \n",
    "    clear_output()\n",
    "    \n",
    "    print('  ' + '   |   ' +  '  |  ' )\n",
    "    print('  ' + the_board[7] + '  |  ' + the_board[8] + '  |  ' + the_board[9])\n",
    "    print('  ' + '   |   ' +  '  |  ' )\n",
    "    \n",
    "    print('-----------------')\n",
    "    \n",
    "    print('  ' + '   |   ' +  '  |  ' )\n",
    "    print('  ' + the_board[4] + '  |  ' + the_board[5] + '  |  ' + the_board[6])  \n",
    "    print('  ' + '   |   ' +  '  |  ' )\n",
    "    \n",
    "    print('-----------------')\n",
    "    \n",
    "    print('  ' + '   |   ' +  '  |  ' )\n",
    "    print('  ' + the_board[1] + '  |  ' + the_board[2] + '  |  ' + the_board[3])\n",
    "    print('  ' + '   |   ' +  '  |  ' )\n",
    "    \n"
   ]
  },
  {
   "cell_type": "code",
   "execution_count": 3,
   "id": "c092aef2",
   "metadata": {},
   "outputs": [],
   "source": [
    "def choose_marker():\n",
    "    marker = '#'\n",
    "    \n",
    "    while marker not in ['X','O']:\n",
    "        marker = input(f\"{name1.capitalize()} Do you want to be X or O? \").upper()\n",
    "    clear_output()\n",
    "    if marker == 'X':\n",
    "        player1_marker = 'X'\n",
    "        player2_marker = 'O'\n",
    "    else:\n",
    "        player1_marker = 'O'\n",
    "        player2_marker = 'X'\n",
    "        \n",
    "    return (player1_marker , player2_marker)"
   ]
  },
  {
   "cell_type": "code",
   "execution_count": 4,
   "id": "5b2bc32e",
   "metadata": {},
   "outputs": [],
   "source": [
    "def place_marker(the_board , marker , position):\n",
    "    the_board[position] = marker"
   ]
  },
  {
   "cell_type": "code",
   "execution_count": 5,
   "id": "c0574db7",
   "metadata": {},
   "outputs": [],
   "source": [
    "import random\n",
    "\n",
    "def choose_random_player():\n",
    "    \n",
    "    random_number = random.randint(1,2)\n",
    "        \n",
    "    if random_number == 1:\n",
    "        return name1\n",
    "    else:\n",
    "        return name2"
   ]
  },
  {
   "cell_type": "code",
   "execution_count": 6,
   "id": "b7d328e0",
   "metadata": {},
   "outputs": [],
   "source": [
    "def win_check(the_board , marker):\n",
    "    return ((the_board[1] == marker and the_board[2] == marker and the_board[3] == marker) or\n",
    "            (the_board[4] == marker and the_board[5] == marker and the_board[6] == marker) or\n",
    "            (the_board[7] == marker and the_board[8] == marker and the_board[9] == marker) or\n",
    "            (the_board[1] == marker and the_board[4] == marker and the_board[7] == marker) or\n",
    "            (the_board[2] == marker and the_board[5] == marker and the_board[8] == marker) or \n",
    "            (the_board[3] == marker and the_board[6] == marker and the_board[9] == marker) or \n",
    "            (the_board[1] == marker and the_board[5] == marker and the_board[9] == marker) or\n",
    "            (the_board[3] == marker and the_board[5] == marker and the_board[7] == marker)) "
   ]
  },
  {
   "cell_type": "code",
   "execution_count": 7,
   "id": "19db7b0c",
   "metadata": {},
   "outputs": [],
   "source": [
    "def free_position(the_board , position):\n",
    "    return the_board[position] == ' '"
   ]
  },
  {
   "cell_type": "code",
   "execution_count": 8,
   "id": "7ad2f7da",
   "metadata": {},
   "outputs": [],
   "source": [
    "def full_positions(the_board):\n",
    "    for position in range(1,10):\n",
    "        if free_position(the_board , position):\n",
    "            return False\n",
    "    return True"
   ]
  },
  {
   "cell_type": "code",
   "execution_count": 9,
   "id": "b349183c",
   "metadata": {},
   "outputs": [],
   "source": [
    "def choose_position(the_board):\n",
    "    position = 0\n",
    "    \n",
    "    while position not in [1,2,3,4,5,6,7,8,9] or not free_position(the_board , position):\n",
    "        position = int(input(\"please choose a position from 1 to 9: \"))\n",
    "        \n",
    "    return position"
   ]
  },
  {
   "cell_type": "code",
   "execution_count": 10,
   "id": "48483870",
   "metadata": {},
   "outputs": [],
   "source": [
    "def replay():\n",
    "    play_again = \"#\"\n",
    "    while play_again not in ['yes', 'y', 'Yes', 'Y', 'no', 'n', 'No', 'N']:\n",
    "        play_again = input(\"\\nDo you want to play again Yes(Y) or No(N): \")\n",
    "    if play_again == 'yes' or play_again == 'y' or play_again == 'Yes' or play_again == 'Y':\n",
    "        return True\n",
    "    else:\n",
    "        return False"
   ]
  },
  {
   "cell_type": "code",
   "execution_count": null,
   "id": "c6fd9da6",
   "metadata": {},
   "outputs": [],
   "source": [
    "print('Welcome to Tic Tac Toe game\\n')\n",
    "\n",
    "import time\n",
    "\n",
    "name1 = input(\"player 1 please enter your name: \")\n",
    "name2 = input(\"player 2 please enter your name: \")\n",
    "\n",
    "global name1\n",
    "global name2\n",
    "\n",
    "num_of_wins1 = 0\n",
    "num_of_wins2 = 0\n",
    "\n",
    "while True:\n",
    "    \n",
    "    board = ['*',' ',' ',' ',' ',' ',' ',' ',' ',' ']\n",
    "    \n",
    "    player1_marker , player2_marker = choose_marker()\n",
    "    \n",
    "    play_first = choose_random_player()\n",
    "    \n",
    "    print('\\n' + play_first.capitalize() + \" will go first after 5 seconds\\n\")\n",
    "    \n",
    "    #delay 5 seconds\n",
    "    j = 0\n",
    "    for i in [1 , 1 , 1 , 1 , 1]:\n",
    "        print(\"Waiting for\" , 5-j , \"seconds\")\n",
    "        time.sleep(i)\n",
    "        j += 1\n",
    "    \n",
    "    while True:\n",
    "        \n",
    "        if play_first == name1:\n",
    "            \n",
    "            display(board)\n",
    "            position = choose_position(board)\n",
    "            place_marker(board , player1_marker , position)               \n",
    "            \n",
    "            if win_check(board, player1_marker):\n",
    "                display(board)\n",
    "                print(f\"\\nCongratulations! {name1.capitalize()} has won the game\\n\")\n",
    "                num_of_wins1 += 1\n",
    "                break\n",
    "                \n",
    "            elif full_positions(board):\n",
    "                display(board)\n",
    "                print(\"This game is a draw\\n\")\n",
    "                break\n",
    "                \n",
    "            else:\n",
    "                play_first = name2\n",
    "            \n",
    "        else:\n",
    "            \n",
    "            display(board)\n",
    "            position = choose_position(board)\n",
    "            place_marker(board , player2_marker , position)               \n",
    "            \n",
    "            if win_check(board, player2_marker):\n",
    "                display(board)\n",
    "                print(f\"\\nCongratulations! {name2.capitalize()} has won the game\\n\")\n",
    "                num_of_wins2 += 1\n",
    "                break\n",
    "                \n",
    "            elif full_positions(board):\n",
    "                display(board)\n",
    "                print(\"This game is draw\\n\")\n",
    "                break\n",
    "                \n",
    "            else:\n",
    "                play_first = name1\n",
    "            \n",
    "    print('Number of wins -->' ,name1.capitalize() , ':' , num_of_wins1 , ' , ' , name2.capitalize() , ':' , num_of_wins2)    \n",
    "    if replay() == True:\n",
    "        pass\n",
    "    else:\n",
    "        break\n",
    "                "
   ]
  },
  {
   "cell_type": "code",
   "execution_count": null,
   "id": "3212cfa5",
   "metadata": {},
   "outputs": [],
   "source": []
  }
 ],
 "metadata": {
  "kernelspec": {
   "display_name": "Python 3 (ipykernel)",
   "language": "python",
   "name": "python3"
  },
  "language_info": {
   "codemirror_mode": {
    "name": "ipython",
    "version": 3
   },
   "file_extension": ".py",
   "mimetype": "text/x-python",
   "name": "python",
   "nbconvert_exporter": "python",
   "pygments_lexer": "ipython3",
   "version": "3.9.7"
  },
  "varInspector": {
   "cols": {
    "lenName": 16,
    "lenType": 16,
    "lenVar": 40
   },
   "kernels_config": {
    "python": {
     "delete_cmd_postfix": "",
     "delete_cmd_prefix": "del ",
     "library": "var_list.py",
     "varRefreshCmd": "print(var_dic_list())"
    },
    "r": {
     "delete_cmd_postfix": ") ",
     "delete_cmd_prefix": "rm(",
     "library": "var_list.r",
     "varRefreshCmd": "cat(var_dic_list()) "
    }
   },
   "types_to_exclude": [
    "module",
    "function",
    "builtin_function_or_method",
    "instance",
    "_Feature"
   ],
   "window_display": false
  }
 },
 "nbformat": 4,
 "nbformat_minor": 5
}
